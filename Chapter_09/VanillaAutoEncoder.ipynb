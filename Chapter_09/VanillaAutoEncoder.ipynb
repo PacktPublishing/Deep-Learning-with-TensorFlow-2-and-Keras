{
 "cells": [
  {
   "cell_type": "code",
   "execution_count": 1,
   "metadata": {},
   "outputs": [],
   "source": [
    "import numpy as np\n",
    "import tensorflow as tf\n",
    "import tensorflow.keras as K\n",
    "import matplotlib.pyplot as plt"
   ]
  },
  {
   "cell_type": "code",
   "execution_count": 2,
   "metadata": {},
   "outputs": [],
   "source": [
    "np.random.seed(11)\n",
    "tf.random.set_seed(11)\n",
    "batch_size = 256\n",
    "max_epochs = 50\n",
    "learning_rate = 1e-3\n",
    "momentum = 8e-1\n",
    "hidden_dim = 128\n",
    "original_dim = 784"
   ]
  },
  {
   "cell_type": "code",
   "execution_count": 3,
   "metadata": {},
   "outputs": [],
   "source": [
    "(x_train, _), (x_test, _) = K.datasets.mnist.load_data()\n",
    "\n",
    "x_train = x_train / 255.\n",
    "x_test = x_test / 255.\n",
    "\n",
    "x_train = x_train.astype(np.float32)\n",
    "x_test = x_test.astype(np.float32)\n",
    "\n",
    "x_train = np.reshape(x_train, (x_train.shape[0], 784))\n",
    "x_test = np.reshape(x_test, (x_test.shape[0], 784))\n",
    "\n",
    "training_dataset = tf.data.Dataset.from_tensor_slices(x_train).batch(batch_size)"
   ]
  },
  {
   "cell_type": "code",
   "execution_count": 4,
   "metadata": {},
   "outputs": [],
   "source": [
    "\n",
    "class Encoder(K.layers.Layer):\n",
    "    def __init__(self, hidden_dim):\n",
    "        super(Encoder, self).__init__()\n",
    "        self.hidden_layer = K.layers.Dense(units=hidden_dim, activation=tf.nn.relu)\n",
    "        \n",
    "    \n",
    "    def call(self, input_features):\n",
    "        activation = self.hidden_layer(input_features)\n",
    "        return activation"
   ]
  },
  {
   "cell_type": "code",
   "execution_count": 5,
   "metadata": {},
   "outputs": [],
   "source": [
    "\n",
    "class Decoder(K.layers.Layer):\n",
    "    def __init__(self, hidden_dim, original_dim):\n",
    "        super(Decoder, self).__init__()\n",
    "        self.output_layer = K.layers.Dense(units=original_dim, activation=tf.nn.relu)\n",
    "  \n",
    "    def call(self, encoded):\n",
    "        activation = self.output_layer(encoded)\n",
    "        return activation "
   ]
  },
  {
   "cell_type": "code",
   "execution_count": 6,
   "metadata": {},
   "outputs": [],
   "source": [
    "class Autoencoder(K.Model):\n",
    "    def __init__(self, hidden_dim, original_dim):\n",
    "        super(Autoencoder, self).__init__()\n",
    "        self.loss = []\n",
    "        self.encoder = Encoder(hidden_dim=hidden_dim)\n",
    "        self.decoder = Decoder(hidden_dim=hidden_dim, original_dim=original_dim)\n",
    "\n",
    "    def call(self, input_features):\n",
    "        encoded = self.encoder(input_features)\n",
    "        reconstructed = self.decoder(encoded)\n",
    "        return reconstructed"
   ]
  },
  {
   "cell_type": "code",
   "execution_count": 7,
   "metadata": {},
   "outputs": [],
   "source": [
    "autoencoder = Autoencoder(hidden_dim=hidden_dim, original_dim=original_dim)\n",
    "opt = tf.optimizers.SGD(learning_rate=learning_rate, momentum=momentum)\n",
    "def loss(preds, real):\n",
    "    return tf.reduce_mean(tf.square(tf.subtract(preds, real)))\n",
    "\n",
    "def train(loss, model, opt, original):\n",
    "    with tf.GradientTape() as tape:\n",
    "        preds = model(original)\n",
    "        reconstruction_error = loss(preds, original)\n",
    "    gradients = tape.gradient(reconstruction_error, model.trainable_variables)\n",
    "    gradient_variables = zip(gradients, model.trainable_variables)\n",
    "    opt.apply_gradients(gradient_variables)\n",
    "  \n",
    "    return reconstruction_error"
   ]
  },
  {
   "cell_type": "code",
   "execution_count": 8,
   "metadata": {},
   "outputs": [],
   "source": [
    "def train_loop(model, opt, loss, dataset, epochs=20):\n",
    "    for epoch in range(epochs):\n",
    "        epoch_loss = 0\n",
    "        for step, batch_features in enumerate(dataset):\n",
    "            loss_values = train(loss, model, opt, batch_features)\n",
    "            epoch_loss += loss_values\n",
    "        model.loss.append(epoch_loss)\n",
    "        print('Epoch {}/{}. Loss: {}'.format(epoch + 1, epochs, epoch_loss.numpy()))"
   ]
  },
  {
   "cell_type": "code",
   "execution_count": 9,
   "metadata": {},
   "outputs": [
    {
     "name": "stdout",
     "output_type": "stream",
     "text": [
      "Epoch 1/50. Loss: 5.158796310424805\n",
      "Epoch 2/50. Loss: 3.0726304054260254\n",
      "Epoch 3/50. Loss: 2.94669771194458\n",
      "Epoch 4/50. Loss: 2.894327402114868\n",
      "Epoch 5/50. Loss: 2.8687782287597656\n",
      "Epoch 6/50. Loss: 2.870492935180664\n",
      "Epoch 7/50. Loss: 2.820152997970581\n",
      "Epoch 8/50. Loss: 2.830281972885132\n",
      "Epoch 9/50. Loss: 2.8133137226104736\n",
      "Epoch 10/50. Loss: 2.8230936527252197\n",
      "Epoch 11/50. Loss: 2.796506643295288\n",
      "Epoch 12/50. Loss: 2.8088817596435547\n",
      "Epoch 13/50. Loss: 2.8151283264160156\n",
      "Epoch 14/50. Loss: 2.8110859394073486\n",
      "Epoch 15/50. Loss: 2.786607265472412\n",
      "Epoch 16/50. Loss: 2.8005685806274414\n",
      "Epoch 17/50. Loss: 2.807785749435425\n",
      "Epoch 18/50. Loss: 2.816632032394409\n",
      "Epoch 19/50. Loss: 2.778759241104126\n",
      "Epoch 20/50. Loss: 2.8042068481445312\n",
      "Epoch 21/50. Loss: 2.8046441078186035\n",
      "Epoch 22/50. Loss: 2.804940700531006\n",
      "Epoch 23/50. Loss: 2.788064956665039\n",
      "Epoch 24/50. Loss: 2.7944788932800293\n",
      "Epoch 25/50. Loss: 2.815552234649658\n",
      "Epoch 26/50. Loss: 2.797698974609375\n",
      "Epoch 27/50. Loss: 2.800128221511841\n",
      "Epoch 28/50. Loss: 2.7927215099334717\n",
      "Epoch 29/50. Loss: 2.79184889793396\n",
      "Epoch 30/50. Loss: 2.7880537509918213\n",
      "Epoch 31/50. Loss: 2.8018202781677246\n",
      "Epoch 32/50. Loss: 2.822197914123535\n",
      "Epoch 33/50. Loss: 2.7898504734039307\n",
      "Epoch 34/50. Loss: 2.8130009174346924\n",
      "Epoch 35/50. Loss: 2.7675364017486572\n",
      "Epoch 36/50. Loss: 2.827432632446289\n",
      "Epoch 37/50. Loss: 2.80202579498291\n",
      "Epoch 38/50. Loss: 2.786804676055908\n",
      "Epoch 39/50. Loss: 2.8008463382720947\n",
      "Epoch 40/50. Loss: 2.8028457164764404\n",
      "Epoch 41/50. Loss: 2.7817986011505127\n",
      "Epoch 42/50. Loss: 2.7839791774749756\n",
      "Epoch 43/50. Loss: 2.8181684017181396\n",
      "Epoch 44/50. Loss: 2.798426866531372\n",
      "Epoch 45/50. Loss: 2.7929301261901855\n",
      "Epoch 46/50. Loss: 2.775773525238037\n",
      "Epoch 47/50. Loss: 2.786076068878174\n",
      "Epoch 48/50. Loss: 2.7812163829803467\n",
      "Epoch 49/50. Loss: 2.798339605331421\n",
      "Epoch 50/50. Loss: 2.7741923332214355\n"
     ]
    }
   ],
   "source": [
    "autoencoder = Autoencoder(hidden_dim=hidden_dim, original_dim=original_dim)\n",
    "opt = tf.keras.optimizers.Adam(learning_rate=1e-2)\n",
    "\n",
    "train_loop(autoencoder, opt, loss, training_dataset, epochs=max_epochs)"
   ]
  },
  {
   "cell_type": "code",
   "execution_count": 10,
   "metadata": {},
   "outputs": [
    {
     "data": {
      "image/png": "[encoded data removed]",
      "text/plain": [
       "<Figure size 432x288 with 1 Axes>"
      ]
     },
     "metadata": {
      "needs_background": "light"
     },
     "output_type": "display_data"
    }
   ],
   "source": [
    "\n",
    "plt.plot(range(max_epochs), autoencoder.loss)\n",
    "plt.xlabel('Epochs')\n",
    "plt.ylabel('Loss')\n",
    "plt.show()"
   ]
  },
  {
   "cell_type": "code",
   "execution_count": 11,
   "metadata": {},
   "outputs": [
    {
     "data": {
      "image/png": "[encoded data removed]",
      "text/plain": [
       "<Figure size 1440x288 with 20 Axes>"
      ]
     },
     "metadata": {
      "needs_background": "light"
     },
     "output_type": "display_data"
    }
   ],
   "source": [
    "number = 10  # how many digits we will display\n",
    "plt.figure(figsize=(20, 4))\n",
    "for index in range(number):\n",
    "    # display original\n",
    "    ax = plt.subplot(2, number, index + 1)\n",
    "    plt.imshow(x_test[index].reshape(28, 28), cmap='gray')\n",
    "    ax.get_xaxis().set_visible(False)\n",
    "    ax.get_yaxis().set_visible(False)\n",
    "\n",
    "    # display reconstruction\n",
    "    ax = plt.subplot(2, number, index + 1 + number)\n",
    "    plt.imshow(autoencoder(x_test)[index].numpy().reshape(28, 28), cmap='gray')\n",
    "    ax.get_xaxis().set_visible(False)\n",
    "    ax.get_yaxis().set_visible(False)\n",
    "plt.show()"
   ]
  },
  {
   "cell_type": "code",
   "execution_count": null,
   "metadata": {},
   "outputs": [],
   "source": []
  }
 ],
 "metadata": {
  "kernelspec": {
   "display_name": "Python [conda env:tf2p0alpha]",
   "language": "python",
   "name": "conda-env-tf2p0alpha-py"
  },
  "language_info": {
   "codemirror_mode": {
    "name": "ipython",
    "version": 3
   },
   "file_extension": ".py",
   "mimetype": "text/x-python",
   "name": "python",
   "nbconvert_exporter": "python",
   "pygments_lexer": "ipython3",
   "version": "3.6.8"
  }
 },
 "nbformat": 4,
 "nbformat_minor": 2
}
