{
 "cells": [
  {
   "cell_type": "code",
   "execution_count": 1,
   "metadata": {},
   "outputs": [
    {
     "name": "stderr",
     "output_type": "stream",
     "text": [
      "[nltk_data] Downloading package punkt to /home/am/nltk_data...\n",
      "[nltk_data]   Package punkt is already up-to-date!\n"
     ]
    },
    {
     "data": {
      "text/plain": [
       "True"
      ]
     },
     "execution_count": 1,
     "metadata": {},
     "output_type": "execute_result"
    }
   ],
   "source": [
    "from sklearn.model_selection import train_test_split\n",
    "from tensorflow.keras.callbacks import ModelCheckpoint\n",
    "from tensorflow.keras.layers import Input\n",
    "from tensorflow.keras.layers import RepeatVector\n",
    "\n",
    "from tensorflow.keras.layers import LSTM\n",
    "from tensorflow.keras.layers import Bidirectional\n",
    "from tensorflow.keras.models import Model\n",
    "from tensorflow.keras.preprocessing import sequence\n",
    "from scipy.stats import describe\n",
    "import collections\n",
    "import matplotlib.pyplot as plt\n",
    "import nltk\n",
    "import numpy as np\n",
    "import os\n",
    "from time import gmtime, strftime\n",
    "from tensorflow.keras.callbacks import TensorBoard\n",
    "import re\n",
    "\n",
    "# Needed to run only once\n",
    "nltk.download('punkt')"
   ]
  },
  {
   "cell_type": "code",
   "execution_count": 2,
   "metadata": {},
   "outputs": [],
   "source": [
    "def lookup_word2id(word):\n",
    "    try:\n",
    "        return word2id[word]\n",
    "    except KeyError:\n",
    "        return word2id[\"UNK\"]\n"
   ]
  },
  {
   "cell_type": "code",
   "execution_count": 3,
   "metadata": {},
   "outputs": [],
   "source": [
    "def load_glove_vectors(glove_file, word2id, embed_size):\n",
    "    embedding = np.zeros((len(word2id), embed_size))\n",
    "    fglove = open(glove_file, \"rb\")\n",
    "    for line in fglove:\n",
    "        cols = line.strip().split()\n",
    "        word = cols[0].decode('utf-8')\n",
    "        if embed_size == 0:\n",
    "            embed_size = len(cols) - 1\n",
    "        if word in word2id:\n",
    "            vec = np.array([float(v) for v in cols[1:]])\n",
    "        embedding[lookup_word2id(word)] = vec\n",
    "    embedding[word2id[\"PAD\"]] = np.zeros((embed_size))\n",
    "    embedding[word2id[\"UNK\"]] = np.random.uniform(-1, 1, embed_size)\n",
    "    return embedding\n"
   ]
  },
  {
   "cell_type": "code",
   "execution_count": 4,
   "metadata": {},
   "outputs": [],
   "source": [
    "def sentence_generator(X, embeddings, batch_size):\n",
    "    while True:\n",
    "        # loop once per epoch\n",
    "        num_recs = X.shape[0]\n",
    "        indices = np.random.permutation(np.arange(num_recs))\n",
    "        num_batches = num_recs // batch_size\n",
    "        for bid in range(num_batches):\n",
    "            sids = indices[bid * batch_size: (bid + 1) * batch_size]\n",
    "            Xbatch = embeddings[X[sids, :]]\n",
    "            yield Xbatch, Xbatch"
   ]
  },
  {
   "cell_type": "code",
   "execution_count": 5,
   "metadata": {},
   "outputs": [],
   "source": [
    "def compute_cosine_similarity(x, y):\n",
    "    return np.dot(x, y) / (np.linalg.norm(x, 2) * np.linalg.norm(y, 2))\n"
   ]
  },
  {
   "cell_type": "code",
   "execution_count": 6,
   "metadata": {},
   "outputs": [],
   "source": [
    "DATA_DIR = \"data\"\n",
    "\n",
    "def is_number(n):\n",
    "    temp = re.sub(\"[.,-/]\", \"\",n)\n",
    "    return temp.isdigit()\n",
    "\n",
    "# parsing sentences and building vocabulary\n",
    "word_freqs = collections.Counter()\n",
    "ftext = open(os.path.join(DATA_DIR, \"text.tsv\"), \"r\")\n",
    "sents = []\n",
    "sent_lens = []\n",
    "for line in ftext:\n",
    "    docid, text = line.strip().split(\"\\t\")\n",
    "    for sent in nltk.sent_tokenize(text):\n",
    "        for word in nltk.word_tokenize(sent):\n",
    "            if is_number(word):\n",
    "                word = \"9\"\n",
    "            word = word.lower()\n",
    "            word_freqs[word] += 1\n",
    "        sents.append(sent)\n",
    "        sent_lens.append(len(sent))\n",
    "ftext.close()"
   ]
  },
  {
   "cell_type": "code",
   "execution_count": 7,
   "metadata": {},
   "outputs": [
    {
     "name": "stdout",
     "output_type": "stream",
     "text": [
      "Total number of sentences are: 131545 \n",
      "Sentence distribution min 1, max 2434 , mean 120.525052, median 115.000000\n",
      "Vocab size (full) 50743\n"
     ]
    }
   ],
   "source": [
    "print(\"Total number of sentences are: {:d} \".format(len(sents)))\n",
    "print (\"Sentence distribution min {:d}, max {:d} , mean {:3f}, median {:3f}\".\n",
    "      format(np.min(sent_lens), np.max(sent_lens), np.mean(sent_lens), np.median(sent_lens)))\n",
    "print(\"Vocab size (full) {:d}\".format(len(word_freqs)))\n"
   ]
  },
  {
   "cell_type": "code",
   "execution_count": 8,
   "metadata": {},
   "outputs": [],
   "source": [
    "VOCAB_SIZE = 5000\n",
    "EMBED_SIZE = 50\n",
    "LATENT_SIZE = 512\n",
    "SEQUENCE_LEN = 50\n",
    "\n",
    "BATCH_SIZE = 64\n",
    "NUM_EPOCHS = 20\n"
   ]
  },
  {
   "cell_type": "code",
   "execution_count": 9,
   "metadata": {},
   "outputs": [
    {
     "name": "stdout",
     "output_type": "stream",
     "text": [
      "vocabulary sizes: 5000 5000\n",
      "(5000, 50)\n",
      "number of sentences:  131545\n",
      "(92081, 50) (39464, 50)\n"
     ]
    },
    {
     "name": "stderr",
     "output_type": "stream",
     "text": [
      "/home/am/anaconda3/envs/tf2p0alpha/lib/python3.6/site-packages/sklearn/model_selection/_split.py:2179: FutureWarning: From version 0.21, test_size will always complement train_size unless both are specified.\n",
      "  FutureWarning)\n"
     ]
    }
   ],
   "source": [
    "# word2id = collections.defaultdict(lambda: 1)\n",
    "word2id = {}\n",
    "word2id[\"PAD\"] = 0\n",
    "word2id[\"UNK\"] = 1\n",
    "for v, (k, _) in enumerate(word_freqs.most_common(VOCAB_SIZE - 2)):\n",
    "    word2id[k] = v + 2\n",
    "id2word = {v: k for k, v in word2id.items()}\n",
    "\n",
    "print(\"vocabulary sizes:\", len(word2id), len(id2word))\n",
    "\n",
    "sent_wids = [[lookup_word2id(w) for w in s.split()] for s in sents]\n",
    "sent_wids = sequence.pad_sequences(sent_wids, SEQUENCE_LEN)\n",
    "\n",
    "# load glove vectors into weight matrix\n",
    "embeddings = load_glove_vectors(os.path.join(\n",
    "    DATA_DIR, \"glove.6B.{:d}d.txt\".format(EMBED_SIZE)), word2id, EMBED_SIZE)\n",
    "print(embeddings.shape)\n",
    "\n",
    "# split sentences into training and test\n",
    "train_size = 0.7\n",
    "Xtrain, Xtest = train_test_split(sent_wids, train_size=train_size)\n",
    "print(\"number of sentences: \", len(sent_wids))\n",
    "print(Xtrain.shape, Xtest.shape)"
   ]
  },
  {
   "cell_type": "code",
   "execution_count": 10,
   "metadata": {},
   "outputs": [],
   "source": [
    "# define training and test generators\n",
    "train_gen = sentence_generator(Xtrain, embeddings, BATCH_SIZE)\n",
    "test_gen = sentence_generator(Xtest, embeddings, BATCH_SIZE)"
   ]
  },
  {
   "cell_type": "code",
   "execution_count": 11,
   "metadata": {},
   "outputs": [
    {
     "name": "stderr",
     "output_type": "stream",
     "text": [
      "WARNING: Logging before flag parsing goes to stderr.\n",
      "W0827 08:36:53.456710 140327285733120 tf_logging.py:161] <tensorflow.python.keras.layers.recurrent.UnifiedLSTM object at 0x7f9fe809f588>: Note that this layer is not optimized for performance. Please use tf.keras.layers.CuDNNLSTM for better performance on GPU.\n",
      "W0827 08:36:53.468909 140327285733120 tf_logging.py:161] <tensorflow.python.keras.layers.recurrent.UnifiedLSTM object at 0x7f9fe655a390>: Note that this layer is not optimized for performance. Please use tf.keras.layers.CuDNNLSTM for better performance on GPU.\n",
      "W0827 08:36:54.271372 140327285733120 tf_logging.py:161] <tensorflow.python.keras.layers.recurrent.UnifiedLSTM object at 0x7f9fe5f31f28>: Note that this layer is not optimized for performance. Please use tf.keras.layers.CuDNNLSTM for better performance on GPU.\n",
      "W0827 08:36:54.273263 140327285733120 tf_logging.py:161] <tensorflow.python.keras.layers.recurrent.UnifiedLSTM object at 0x7f9fe64fd128>: Note that this layer is not optimized for performance. Please use tf.keras.layers.CuDNNLSTM for better performance on GPU.\n"
     ]
    }
   ],
   "source": [
    "# define autoencoder network\n",
    "inputs = Input(shape=(SEQUENCE_LEN, EMBED_SIZE), name=\"input\")\n",
    "encoded = Bidirectional(LSTM(LATENT_SIZE), merge_mode=\"sum\",\n",
    "                        name=\"encoder_lstm\")(inputs)\n",
    "decoded = RepeatVector(SEQUENCE_LEN, name=\"repeater\")(encoded)\n",
    "decoded = Bidirectional(LSTM(EMBED_SIZE, return_sequences=True),\n",
    "                        merge_mode=\"sum\",\n",
    "                        name=\"decoder_lstm\")(decoded)\n",
    "\n",
    "autoencoder = Model(inputs, decoded)\n",
    "\n",
    "#tensorboard = make_tensorboard(set_dir_name='rnn')"
   ]
  },
  {
   "cell_type": "code",
   "execution_count": 12,
   "metadata": {},
   "outputs": [
    {
     "name": "stdout",
     "output_type": "stream",
     "text": [
      "Epoch 1/20\n",
      "1438/1438 [==============================] - 58s 40ms/step - loss: 0.1161 - val_loss: 0.1097\n",
      "Epoch 2/20\n",
      "1438/1438 [==============================] - 59s 41ms/step - loss: 0.1070 - val_loss: 0.1051\n",
      "Epoch 3/20\n",
      "1438/1438 [==============================] - 59s 41ms/step - loss: 0.1030 - val_loss: 0.1013\n",
      "Epoch 4/20\n",
      "1438/1438 [==============================] - 59s 41ms/step - loss: 0.0991 - val_loss: 0.0977\n",
      "Epoch 5/20\n",
      "1438/1438 [==============================] - 59s 41ms/step - loss: 0.0954 - val_loss: 0.0943\n",
      "Epoch 6/20\n",
      "1438/1438 [==============================] - 59s 41ms/step - loss: 0.0927 - val_loss: 0.0923\n",
      "Epoch 7/20\n",
      "1438/1438 [==============================] - 59s 41ms/step - loss: 0.0910 - val_loss: 0.0910\n",
      "Epoch 8/20\n",
      "1438/1438 [==============================] - 59s 41ms/step - loss: 0.0896 - val_loss: 0.0895\n",
      "Epoch 9/20\n",
      "1438/1438 [==============================] - 59s 41ms/step - loss: 0.0884 - val_loss: 0.0886\n",
      "Epoch 10/20\n",
      "1438/1438 [==============================] - 59s 41ms/step - loss: 0.0878 - val_loss: 0.0882\n",
      "Epoch 11/20\n",
      "1438/1438 [==============================] - 59s 41ms/step - loss: 0.0867 - val_loss: 0.0861\n",
      "Epoch 12/20\n",
      "1438/1438 [==============================] - 59s 41ms/step - loss: 0.0858 - val_loss: 0.0854\n",
      "Epoch 13/20\n",
      "1438/1438 [==============================] - 59s 41ms/step - loss: 0.0855 - val_loss: 0.0860\n",
      "Epoch 14/20\n",
      "1438/1438 [==============================] - 58s 41ms/step - loss: 0.0847 - val_loss: 0.0844\n",
      "Epoch 15/20\n",
      "1438/1438 [==============================] - 59s 41ms/step - loss: 0.0841 - val_loss: 0.0845\n",
      "Epoch 16/20\n",
      "1438/1438 [==============================] - 59s 41ms/step - loss: 0.0838 - val_loss: 0.0838\n",
      "Epoch 17/20\n",
      "1438/1438 [==============================] - 59s 41ms/step - loss: 0.0832 - val_loss: 0.0874\n",
      "Epoch 18/20\n",
      "1438/1438 [==============================] - 59s 41ms/step - loss: 0.0830 - val_loss: 0.0829\n",
      "Epoch 19/20\n",
      "1438/1438 [==============================] - 59s 41ms/step - loss: 0.0825 - val_loss: 0.0832\n",
      "Epoch 20/20\n",
      "1438/1438 [==============================] - 59s 41ms/step - loss: 0.0824 - val_loss: 0.0820\n"
     ]
    }
   ],
   "source": [
    "autoencoder.compile(optimizer=\"adam\", loss=\"mse\")\n",
    "\n",
    "# train\n",
    "num_train_steps = len(Xtrain) // BATCH_SIZE\n",
    "num_test_steps = len(Xtest) // BATCH_SIZE\n",
    "#checkpoint = ModelCheckpoint(\n",
    "#   filepath=os.path.join(DATA_DIR, \"sent-thoughts-autoencoder.h5\"),\n",
    "#    save_best_only=True)\n",
    "history = autoencoder.fit_generator(train_gen,\n",
    "                                    steps_per_epoch=num_train_steps,\n",
    "                                    epochs=NUM_EPOCHS,\n",
    "                                    validation_data=test_gen,\n",
    "                                    validation_steps=num_test_steps) \n",
    "                                    #callbacks=[checkpoint, tensorboard])\n"
   ]
  },
  {
   "cell_type": "code",
   "execution_count": 13,
   "metadata": {},
   "outputs": [],
   "source": [
    "# collect autoencoder predictions for test set\n",
    "test_inputs, test_labels = next(test_gen)\n",
    "preds = autoencoder.predict(test_inputs)\n",
    "\n",
    "# extract encoder part from autoencoder\n",
    "encoder = Model(autoencoder.input,\n",
    "                autoencoder.get_layer(\"encoder_lstm\").output)\n",
    "# encoder.summary()\n"
   ]
  },
  {
   "cell_type": "code",
   "execution_count": 14,
   "metadata": {},
   "outputs": [
    {
     "data": {
      "text/plain": [
       "<matplotlib.legend.Legend at 0x7f9fac10c898>"
      ]
     },
     "execution_count": 14,
     "metadata": {},
     "output_type": "execute_result"
    },
    {
     "data": {
      "image/png": "[encoded data removed]",
      "text/plain": [
       "<Figure size 432x288 with 1 Axes>"
      ]
     },
     "metadata": {
      "needs_background": "light"
     },
     "output_type": "display_data"
    }
   ],
   "source": [
    "plt.plot(history.history[\"loss\"], label = \"training loss\")\n",
    "plt.plot(history.history[\"val_loss\"], label = \"validation loss\")\n",
    "plt.xlabel(\"epochs\")\n",
    "plt.ylabel(\"Loss\")\n",
    "plt.legend()"
   ]
  },
  {
   "cell_type": "code",
   "execution_count": 15,
   "metadata": {},
   "outputs": [
    {
     "name": "stdout",
     "output_type": "stream",
     "text": [
      "0.984686553478241\n",
      "0.9815746545791626\n",
      "0.9793671369552612\n",
      "0.9805112481117249\n",
      "0.9630994200706482\n",
      "0.9790557622909546\n",
      "0.9893233180046082\n",
      "0.9869443774223328\n",
      "0.9665998220443726\n",
      "0.9893233180046082\n",
      "0.9829331040382385\n"
     ]
    }
   ],
   "source": [
    "# compute difference between vector produced by original and autoencoded\n",
    "k = 500\n",
    "cosims = np.zeros((k))\n",
    "i = 0\n",
    "for bid in range(num_test_steps):\n",
    "    xtest, ytest = next(test_gen)\n",
    "    ytest_ = autoencoder.predict(xtest)\n",
    "    Xvec = encoder.predict(xtest)\n",
    "    Yvec = encoder.predict(ytest_)\n",
    "    for rid in range(Xvec.shape[0]):\n",
    "        if i >= k:\n",
    "            break\n",
    "        cosims[i] = compute_cosine_similarity(Xvec[rid], Yvec[rid])\n",
    "        if i <= 10:\n",
    "            print(cosims[i])\n",
    "        i += 1\n",
    "    if i >= k:\n",
    "        break"
   ]
  },
  {
   "cell_type": "code",
   "execution_count": 16,
   "metadata": {},
   "outputs": [
    {
     "data": {
      "image/png": "[encoded data removed]",
      "text/plain": [
       "<Figure size 432x288 with 1 Axes>"
      ]
     },
     "metadata": {
      "needs_background": "light"
     },
     "output_type": "display_data"
    }
   ],
   "source": [
    "plt.hist(cosims, bins=10, density=True)\n",
    "plt.xlabel(\"cosine similarity\")\n",
    "plt.ylabel(\"frequency\")\n",
    "plt.show()"
   ]
  },
  {
   "cell_type": "code",
   "execution_count": null,
   "metadata": {},
   "outputs": [],
   "source": []
  }
 ],
 "metadata": {
  "kernelspec": {
   "display_name": "Python [conda env:anaconda3]",
   "language": "python",
   "name": "conda-env-anaconda3-py"
  },
  "language_info": {
   "codemirror_mode": {
    "name": "ipython",
    "version": 3
   },
   "file_extension": ".py",
   "mimetype": "text/x-python",
   "name": "python",
   "nbconvert_exporter": "python",
   "pygments_lexer": "ipython3",
   "version": "3.6.8"
  }
 },
 "nbformat": 4,
 "nbformat_minor": 2
}
