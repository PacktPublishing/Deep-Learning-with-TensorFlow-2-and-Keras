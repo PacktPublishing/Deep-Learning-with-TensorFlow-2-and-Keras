{
 "cells": [
  {
   "cell_type": "code",
   "execution_count": 1,
   "metadata": {},
   "outputs": [],
   "source": [
    "import numpy as np\n",
    "import tensorflow as tf\n",
    "import tensorflow.keras as K\n",
    "import matplotlib.pyplot as plt\n",
    "from tensorflow.keras import regularizers"
   ]
  },
  {
   "cell_type": "code",
   "execution_count": 2,
   "metadata": {},
   "outputs": [],
   "source": [
    "np.random.seed(11)\n",
    "tf.random.set_seed(11)\n",
    "batch_size = 256\n",
    "max_epochs = 50\n",
    "learning_rate = 1e-3\n",
    "momentum = 8e-1\n",
    "hidden_dim = 128\n",
    "original_dim = 784"
   ]
  },
  {
   "cell_type": "code",
   "execution_count": 3,
   "metadata": {},
   "outputs": [],
   "source": [
    "(x_train, _), (x_test, _) = K.datasets.mnist.load_data()\n",
    "\n",
    "x_train = x_train / 255.\n",
    "x_test = x_test / 255.\n",
    "\n",
    "x_train = x_train.astype(np.float32)\n",
    "x_test = x_test.astype(np.float32)\n",
    "\n",
    "x_train = np.reshape(x_train, (x_train.shape[0], 784))\n",
    "x_test = np.reshape(x_test, (x_test.shape[0], 784))\n",
    "\n",
    "training_dataset = tf.data.Dataset.from_tensor_slices(x_train).batch(batch_size)"
   ]
  },
  {
   "cell_type": "code",
   "execution_count": 4,
   "metadata": {},
   "outputs": [],
   "source": [
    "\n",
    "class SparseEncoder(K.layers.Layer):\n",
    "    def __init__(self, hidden_dim):\n",
    "        super(SparseEncoder, self).__init__()\n",
    "        self.hidden_layer = K.layers.Dense(units=hidden_dim, \n",
    "                    activation=tf.nn.relu, activity_regularizer=regularizers.l1(10e-5))\n",
    "        \n",
    "    \n",
    "    def call(self, input_features):\n",
    "        activation = self.hidden_layer(input_features)\n",
    "        return activation"
   ]
  },
  {
   "cell_type": "code",
   "execution_count": 5,
   "metadata": {},
   "outputs": [],
   "source": [
    "\n",
    "class SparseDecoder(K.layers.Layer):\n",
    "    def __init__(self, hidden_dim, original_dim):\n",
    "        super(SparseDecoder, self).__init__()\n",
    "        self.output_layer = K.layers.Dense(units=original_dim, activation=tf.nn.relu)\n",
    "  \n",
    "    def call(self, encoded):\n",
    "        activation = self.output_layer(encoded)\n",
    "        return activation "
   ]
  },
  {
   "cell_type": "code",
   "execution_count": 6,
   "metadata": {},
   "outputs": [],
   "source": [
    "class SparseAutoencoder(K.Model):\n",
    "    def __init__(self, hidden_dim, original_dim):\n",
    "        super(SparseAutoencoder, self).__init__()\n",
    "        self.loss = []\n",
    "        self.encoder = SparseEncoder(hidden_dim=hidden_dim)\n",
    "        self.decoder = SparseDecoder(hidden_dim=hidden_dim, original_dim=original_dim)\n",
    "\n",
    "    def call(self, input_features):\n",
    "        encoded = self.encoder(input_features)\n",
    "        reconstructed = self.decoder(encoded)\n",
    "        return reconstructed"
   ]
  },
  {
   "cell_type": "code",
   "execution_count": 7,
   "metadata": {},
   "outputs": [],
   "source": [
    "autoencoder = SparseAutoencoder(hidden_dim=hidden_dim, original_dim=original_dim)\n",
    "opt = tf.optimizers.SGD(learning_rate=learning_rate, momentum=momentum)\n",
    "\n",
    "def loss(preds, real):\n",
    "    return tf.reduce_mean(tf.square(tf.subtract(preds, real))) \n",
    "\n",
    "def train(loss, model, opt, original):\n",
    "    with tf.GradientTape() as tape:\n",
    "        preds = model(original)\n",
    "        reconstruction_error = loss(preds, original)\n",
    "    gradients = tape.gradient(reconstruction_error, model.trainable_variables)\n",
    "    gradient_variables = zip(gradients, model.trainable_variables)\n",
    "    opt.apply_gradients(gradient_variables)\n",
    "  \n",
    "    return reconstruction_error"
   ]
  },
  {
   "cell_type": "code",
   "execution_count": 8,
   "metadata": {},
   "outputs": [],
   "source": [
    "def train_loop(model, opt, loss, dataset, epochs=20):\n",
    "    for epoch in range(epochs):\n",
    "        epoch_loss = 0\n",
    "        for step, batch_features in enumerate(dataset):\n",
    "            loss_values = train(loss, model, opt, batch_features)\n",
    "            epoch_loss += loss_values\n",
    "        model.loss.append(epoch_loss)\n",
    "        print('Epoch {}/{}. Loss: {}'.format(epoch + 1, epochs, epoch_loss.numpy()))"
   ]
  },
  {
   "cell_type": "code",
   "execution_count": 9,
   "metadata": {},
   "outputs": [
    {
     "name": "stdout",
     "output_type": "stream",
     "text": [
      "Epoch 1/50. Loss: 5.1587958335876465\n",
      "Epoch 2/50. Loss: 3.072758913040161\n",
      "Epoch 3/50. Loss: 2.9567911624908447\n",
      "Epoch 4/50. Loss: 2.8891077041625977\n",
      "Epoch 5/50. Loss: 2.893104314804077\n",
      "Epoch 6/50. Loss: 2.843897581100464\n",
      "Epoch 7/50. Loss: 2.843674898147583\n",
      "Epoch 8/50. Loss: 2.8288328647613525\n",
      "Epoch 9/50. Loss: 2.807680368423462\n",
      "Epoch 10/50. Loss: 2.851358413696289\n",
      "Epoch 11/50. Loss: 2.804849863052368\n",
      "Epoch 12/50. Loss: 2.7799880504608154\n",
      "Epoch 13/50. Loss: 2.8308520317077637\n",
      "Epoch 14/50. Loss: 2.81044340133667\n",
      "Epoch 15/50. Loss: 2.814807176589966\n",
      "Epoch 16/50. Loss: 2.8045241832733154\n",
      "Epoch 17/50. Loss: 2.7953529357910156\n",
      "Epoch 18/50. Loss: 2.801511526107788\n",
      "Epoch 19/50. Loss: 2.800142288208008\n",
      "Epoch 20/50. Loss: 2.812126398086548\n",
      "Epoch 21/50. Loss: 2.806365966796875\n",
      "Epoch 22/50. Loss: 2.826596736907959\n",
      "Epoch 23/50. Loss: 2.8027992248535156\n",
      "Epoch 24/50. Loss: 2.792048931121826\n",
      "Epoch 25/50. Loss: 2.807739019393921\n",
      "Epoch 26/50. Loss: 2.8026280403137207\n",
      "Epoch 27/50. Loss: 2.8349876403808594\n",
      "Epoch 28/50. Loss: 2.777519702911377\n",
      "Epoch 29/50. Loss: 2.781268358230591\n",
      "Epoch 30/50. Loss: 2.8068041801452637\n",
      "Epoch 31/50. Loss: 2.818871259689331\n",
      "Epoch 32/50. Loss: 2.8017191886901855\n",
      "Epoch 33/50. Loss: 2.8185043334960938\n",
      "Epoch 34/50. Loss: 2.8035051822662354\n",
      "Epoch 35/50. Loss: 2.820244312286377\n",
      "Epoch 36/50. Loss: 2.800128698348999\n",
      "Epoch 37/50. Loss: 2.798171281814575\n",
      "Epoch 38/50. Loss: 2.8326492309570312\n",
      "Epoch 39/50. Loss: 2.7774178981781006\n",
      "Epoch 40/50. Loss: 2.786750078201294\n",
      "Epoch 41/50. Loss: 2.819849729537964\n",
      "Epoch 42/50. Loss: 2.800732374191284\n",
      "Epoch 43/50. Loss: 2.808854579925537\n",
      "Epoch 44/50. Loss: 2.799129009246826\n",
      "Epoch 45/50. Loss: 2.8094983100891113\n",
      "Epoch 46/50. Loss: 2.818035364151001\n",
      "Epoch 47/50. Loss: 2.793402671813965\n",
      "Epoch 48/50. Loss: 2.829216957092285\n",
      "Epoch 49/50. Loss: 2.7824392318725586\n",
      "Epoch 50/50. Loss: 2.7979650497436523\n"
     ]
    }
   ],
   "source": [
    "model = SparseAutoencoder(hidden_dim=hidden_dim, original_dim=original_dim)\n",
    "opt = tf.keras.optimizers.Adam(learning_rate=1e-2)\n",
    "\n",
    "train_loop(model, opt, loss, training_dataset, epochs=max_epochs)"
   ]
  },
  {
   "cell_type": "code",
   "execution_count": 10,
   "metadata": {},
   "outputs": [
    {
     "data": {
      "image/png": "[encoded data removed]",
      "text/plain": [
       "<Figure size 432x288 with 1 Axes>"
      ]
     },
     "metadata": {
      "needs_background": "light"
     },
     "output_type": "display_data"
    }
   ],
   "source": [
    "\n",
    "plt.plot(range(max_epochs), model.loss)\n",
    "plt.xlabel('Epochs')\n",
    "plt.ylabel('Loss')\n",
    "plt.show()"
   ]
  },
  {
   "cell_type": "code",
   "execution_count": 11,
   "metadata": {},
   "outputs": [
    {
     "data": {
      "image/png": "[encoded data removed]",
      "text/plain": [
       "<Figure size 1440x288 with 20 Axes>"
      ]
     },
     "metadata": {
      "needs_background": "light"
     },
     "output_type": "display_data"
    }
   ],
   "source": [
    "number = 10  # how many digits we will display\n",
    "plt.figure(figsize=(20, 4))\n",
    "for index in range(number):\n",
    "    # display original\n",
    "    ax = plt.subplot(2, number, index + 1)\n",
    "    plt.imshow(x_test[index].reshape(28, 28), cmap='gray')\n",
    "    ax.get_xaxis().set_visible(False)\n",
    "    ax.get_yaxis().set_visible(False)\n",
    "\n",
    "    # display reconstruction\n",
    "    ax = plt.subplot(2, number, index + 1 + number)\n",
    "    plt.imshow(model(x_test)[index].numpy().reshape(28, 28), cmap='gray')\n",
    "    ax.get_xaxis().set_visible(False)\n",
    "    ax.get_yaxis().set_visible(False)\n",
    "plt.show()"
   ]
  },
  {
   "cell_type": "code",
   "execution_count": null,
   "metadata": {},
   "outputs": [],
   "source": []
  }
 ],
 "metadata": {
  "kernelspec": {
   "display_name": "Python [conda env:tf2p0alpha]",
   "language": "python",
   "name": "conda-env-tf2p0alpha-py"
  },
  "language_info": {
   "codemirror_mode": {
    "name": "ipython",
    "version": 3
   },
   "file_extension": ".py",
   "mimetype": "text/x-python",
   "name": "python",
   "nbconvert_exporter": "python",
   "pygments_lexer": "ipython3",
   "version": "3.6.8"
  }
 },
 "nbformat": 4,
 "nbformat_minor": 2
}
