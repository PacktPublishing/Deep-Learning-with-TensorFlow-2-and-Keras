{
 "cells": [
  {
   "cell_type": "code",
   "execution_count": 1,
   "metadata": {},
   "outputs": [],
   "source": [
    "import tensorflow as tf\n",
    "import numpy as np\n",
    "import matplotlib.pyplot as plt\n"
   ]
  },
  {
   "cell_type": "code",
   "execution_count": 2,
   "metadata": {},
   "outputs": [],
   "source": [
    "(train_data, _), (test_data, _) =  tf.keras.datasets.mnist.load_data()\n",
    "train_data = train_data/np.float32(255)\n",
    "train_data = np.reshape(train_data, (train_data.shape[0], 784))\n",
    "\n",
    "\n",
    "test_data = test_data/np.float32(255)\n",
    "test_data = np.reshape(test_data, (test_data.shape[0], 784))"
   ]
  },
  {
   "cell_type": "code",
   "execution_count": 3,
   "metadata": {},
   "outputs": [],
   "source": [
    "#Class that defines the behavior of the RBM\n",
    "class RBM(object):\n",
    "    \n",
    "    def __init__(self, input_size, output_size, lr=1.0, batchsize=100):\n",
    "        \"\"\"\n",
    "        m: Number of neurons in visible layer\n",
    "        n: number of neurons in hidden layer\n",
    "        \"\"\"\n",
    "        #Defining the hyperparameters\n",
    "        self._input_size = input_size #Size of Visible\n",
    "        self._output_size = output_size #Size of outp\n",
    "        self.learning_rate = lr #The step used in gradient descent\n",
    "        self.batchsize = batchsize #The size of how much data will be used for training per sub iteration\n",
    "        \n",
    "        #Initializing weights and biases as matrices full of zeroes\n",
    "        self.w = tf.zeros([input_size, output_size], np.float32) #Creates and initializes the weights with 0\n",
    "        self.hb = tf.zeros([output_size], np.float32) #Creates and initializes the hidden biases with 0\n",
    "        self.vb = tf.zeros([input_size], np.float32) #Creates and initializes the visible biases with 0\n",
    "\n",
    "\n",
    "    #Forward Pass\n",
    "    def prob_h_given_v(self, visible, w, hb):\n",
    "        #Sigmoid \n",
    "        return tf.nn.sigmoid(tf.matmul(visible, w) + hb)\n",
    "\n",
    "    #Backward Pass\n",
    "    def prob_v_given_h(self, hidden, w, vb):\n",
    "        return tf.nn.sigmoid(tf.matmul(hidden, tf.transpose(w)) + vb)\n",
    "    \n",
    "    #Generate the sample probability\n",
    "    def sample_prob(self, probs):\n",
    "        return tf.nn.relu(tf.sign(probs - tf.random.uniform(tf.shape(probs))))\n",
    "\n",
    "    #Training method for the model\n",
    "    def train(self, X, epochs=10):\n",
    "               \n",
    "        loss = []\n",
    "        for epoch in range(epochs):\n",
    "            #For each step/batch\n",
    "            for start, end in zip(range(0, len(X), self.batchsize),range(self.batchsize,len(X), self.batchsize)):\n",
    "                batch = X[start:end]\n",
    "                    \n",
    "                #Initialize with sample probabilities\n",
    "                    \n",
    "                h0 = self.sample_prob(self.prob_h_given_v(batch, self.w, self.hb))\n",
    "                v1 = self.sample_prob(self.prob_v_given_h(h0, self.w, self.vb))\n",
    "                h1 = self.prob_h_given_v(v1, self.w, self.hb)\n",
    "                    \n",
    "                #Create the Gradients\n",
    "                positive_grad = tf.matmul(tf.transpose(batch), h0)\n",
    "                negative_grad = tf.matmul(tf.transpose(v1), h1)\n",
    "                    \n",
    "                #Update learning rates \n",
    "                self.w = self.w + self.learning_rate *(positive_grad - negative_grad) / tf.dtypes.cast(tf.shape(batch)[0],tf.float32)\n",
    "                self.vb = self.vb +  self.learning_rate * tf.reduce_mean(batch - v1, 0)\n",
    "                self.hb = self.hb +  self.learning_rate * tf.reduce_mean(h0 - h1, 0)\n",
    "                    \n",
    "            #Find the error rate\n",
    "            err = tf.reduce_mean(tf.square(batch - v1))\n",
    "            print ('Epoch: %d' % epoch,'reconstruction error: %f' % err)\n",
    "            loss.append(err)\n",
    "                    \n",
    "        return loss\n",
    "        \n",
    "    #Create expected output for our DBN\n",
    "    def rbm_output(self, X):\n",
    "        out = tf.nn.sigmoid(tf.matmul(X, self.w) + self.hb)\n",
    "        return out\n",
    "    \n",
    "    def rbm_reconstruct(self,X):\n",
    "        h = tf.nn.sigmoid(tf.matmul(X, self.w) + self.hb)\n",
    "        reconstruct = tf.nn.sigmoid(tf.matmul(h, tf.transpose(self.w)) + self.vb)\n",
    "        return reconstruct\n",
    "            \n",
    "            "
   ]
  },
  {
   "cell_type": "code",
   "execution_count": 4,
   "metadata": {},
   "outputs": [
    {
     "name": "stdout",
     "output_type": "stream",
     "text": [
      "Epoch: 0 reconstruction error: 0.058346\n",
      "Epoch: 1 reconstruction error: 0.053077\n",
      "Epoch: 2 reconstruction error: 0.050471\n",
      "Epoch: 3 reconstruction error: 0.047577\n",
      "Epoch: 4 reconstruction error: 0.047246\n",
      "Epoch: 5 reconstruction error: 0.045349\n",
      "Epoch: 6 reconstruction error: 0.046128\n",
      "Epoch: 7 reconstruction error: 0.043719\n",
      "Epoch: 8 reconstruction error: 0.044629\n",
      "Epoch: 9 reconstruction error: 0.042792\n",
      "Epoch: 10 reconstruction error: 0.043694\n",
      "Epoch: 11 reconstruction error: 0.043396\n",
      "Epoch: 12 reconstruction error: 0.041716\n",
      "Epoch: 13 reconstruction error: 0.043921\n",
      "Epoch: 14 reconstruction error: 0.041899\n",
      "Epoch: 15 reconstruction error: 0.043255\n",
      "Epoch: 16 reconstruction error: 0.042263\n",
      "Epoch: 17 reconstruction error: 0.041181\n",
      "Epoch: 18 reconstruction error: 0.041547\n",
      "Epoch: 19 reconstruction error: 0.040591\n",
      "Epoch: 20 reconstruction error: 0.040817\n",
      "Epoch: 21 reconstruction error: 0.042179\n",
      "Epoch: 22 reconstruction error: 0.041643\n",
      "Epoch: 23 reconstruction error: 0.040972\n",
      "Epoch: 24 reconstruction error: 0.040443\n",
      "Epoch: 25 reconstruction error: 0.041524\n",
      "Epoch: 26 reconstruction error: 0.040908\n",
      "Epoch: 27 reconstruction error: 0.040389\n",
      "Epoch: 28 reconstruction error: 0.040650\n",
      "Epoch: 29 reconstruction error: 0.041425\n",
      "Epoch: 30 reconstruction error: 0.040191\n",
      "Epoch: 31 reconstruction error: 0.040303\n",
      "Epoch: 32 reconstruction error: 0.041072\n",
      "Epoch: 33 reconstruction error: 0.040791\n",
      "Epoch: 34 reconstruction error: 0.039652\n",
      "Epoch: 35 reconstruction error: 0.040287\n",
      "Epoch: 36 reconstruction error: 0.040006\n",
      "Epoch: 37 reconstruction error: 0.041456\n",
      "Epoch: 38 reconstruction error: 0.040201\n",
      "Epoch: 39 reconstruction error: 0.040411\n",
      "Epoch: 40 reconstruction error: 0.039634\n",
      "Epoch: 41 reconstruction error: 0.039881\n",
      "Epoch: 42 reconstruction error: 0.040136\n",
      "Epoch: 43 reconstruction error: 0.040026\n",
      "Epoch: 44 reconstruction error: 0.039949\n",
      "Epoch: 45 reconstruction error: 0.039199\n",
      "Epoch: 46 reconstruction error: 0.041087\n",
      "Epoch: 47 reconstruction error: 0.039012\n",
      "Epoch: 48 reconstruction error: 0.040457\n",
      "Epoch: 49 reconstruction error: 0.039672\n"
     ]
    }
   ],
   "source": [
    "#Size of inputs is the number of inputs in the training set\n",
    "input_size = train_data.shape[1]\n",
    "rbm = RBM(input_size, 200)\n",
    "\n",
    "err = rbm.train(train_data,50)"
   ]
  },
  {
   "cell_type": "code",
   "execution_count": 5,
   "metadata": {},
   "outputs": [
    {
     "data": {
      "text/plain": [
       "Text(0, 0.5, 'cost')"
      ]
     },
     "execution_count": 5,
     "metadata": {},
     "output_type": "execute_result"
    },
    {
     "data": {
      "image/png": "[encoded data removed]",
      "text/plain": [
       "<Figure size 432x288 with 1 Axes>"
      ]
     },
     "metadata": {
      "needs_background": "light"
     },
     "output_type": "display_data"
    }
   ],
   "source": [
    "plt.plot(err)\n",
    "plt.xlabel('epochs')\n",
    "plt.ylabel('cost')"
   ]
  },
  {
   "cell_type": "code",
   "execution_count": 6,
   "metadata": {},
   "outputs": [
    {
     "data": {
      "image/png": "[encoded data removed]",
      "text/plain": [
       "<Figure size 1440x288 with 16 Axes>"
      ]
     },
     "metadata": {
      "needs_background": "light"
     },
     "output_type": "display_data"
    }
   ],
   "source": [
    "out = rbm.rbm_reconstruct(test_data)\n",
    "\n",
    "# Plotting original and reconstructed images\n",
    "row, col = 2, 8\n",
    "idx = np.random.randint(0, 100, row * col // 2)\n",
    "f, axarr = plt.subplots(row, col, sharex=True, sharey=True, figsize=(20,4))\n",
    "for fig, row in zip([test_data,out], axarr):\n",
    "    for i,ax in zip(idx,row):\n",
    "        ax.imshow(tf.reshape(fig[i],[28, 28]), cmap='Greys_r')\n",
    "        ax.get_xaxis().set_visible(False)\n",
    "        ax.get_yaxis().set_visible(False)"
   ]
  },
  {
   "cell_type": "code",
   "execution_count": null,
   "metadata": {},
   "outputs": [],
   "source": []
  }
 ],
 "metadata": {
  "kernelspec": {
   "display_name": "Python [conda env:new_tf]",
   "language": "python",
   "name": "conda-env-new_tf-py"
  },
  "language_info": {
   "codemirror_mode": {
    "name": "ipython",
    "version": 3
   },
   "file_extension": ".py",
   "mimetype": "text/x-python",
   "name": "python",
   "nbconvert_exporter": "python",
   "pygments_lexer": "ipython3",
   "version": "3.5.6"
  }
 },
 "nbformat": 4,
 "nbformat_minor": 2
}
