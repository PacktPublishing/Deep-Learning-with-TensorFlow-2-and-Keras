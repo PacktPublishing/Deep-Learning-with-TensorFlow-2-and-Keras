{
 "cells": [
  {
   "cell_type": "code",
   "execution_count": 1,
   "metadata": {},
   "outputs": [],
   "source": [
    "import tensorflow as tf\n",
    "import numpy as np\n",
    "import matplotlib.pyplot as plt\n"
   ]
  },
  {
   "cell_type": "code",
   "execution_count": 30,
   "metadata": {},
   "outputs": [],
   "source": [
    "# Define the Winner Take All units\n",
    "class WTU(object):\n",
    "    \n",
    "       \n",
    "    def __init__(self, m, n, dim, num_iterations, eta = 0.5, sigma = None):\n",
    "        \n",
    "        self._m = m\n",
    "        self._n = n\n",
    "        self._neighbourhood = []\n",
    "        self._topography = []\n",
    "        self._num_iterations = int(num_iterations) \n",
    "        self._learned = False\n",
    "        self.dim = dim\n",
    "        \n",
    "        self.eta = float(eta)\n",
    "           \n",
    "        if sigma is None:\n",
    "            sigma = max(m,n)/2.0    # Constant radius\n",
    "        else:\n",
    "            sigma = float(sigma)\n",
    "        self.sigma = sigma\n",
    "        \n",
    "            \n",
    "        print('Network created with dimensions',m,n)\n",
    "            \n",
    "        # Weight Matrix and the topography of neurons\n",
    "        self._W = tf.random.normal([m*n, dim], seed = 0)\n",
    "        self._topography = np.array(list(self._neuron_location(m, n)))\n",
    "            \n",
    "               \n",
    "        \n",
    "    def training(self,x, i):\n",
    "            m = self._m\n",
    "            n= self._n \n",
    "            \n",
    "            # Finding the Winner and its location\n",
    "            d = tf.sqrt(tf.reduce_sum(tf.pow(self._W - tf.stack([x for i in range(m*n)]),2),1))\n",
    "            self.WTU_idx = tf.argmin(d,0)\n",
    "            \n",
    "            slice_start = tf.pad(tf.reshape(self.WTU_idx, [1]),np.array([[0,1]]))\n",
    "            self.WTU_loc = tf.reshape(tf.slice(self._topography, slice_start,[1,2]), [2])\n",
    "            \n",
    "            \n",
    "            # Change learning rate and radius as a function of iterations\n",
    "            learning_rate = 1 - i/self._num_iterations\n",
    "            _eta_new = self.eta * learning_rate\n",
    "            _sigma_new = self.sigma * learning_rate\n",
    "            \n",
    "            \n",
    "            # Calculating Neighbourhood function\n",
    "            distance_square = tf.reduce_sum(tf.pow(tf.subtract(\n",
    "                self._topography, tf.stack([self.WTU_loc for i in range(m * n)])), 2), 1)\n",
    "            neighbourhood_func = tf.exp(tf.negative(tf.math.divide(tf.cast(\n",
    "                distance_square, \"float32\"), tf.pow(_sigma_new, 2))))\n",
    "            \n",
    "            # multiply learning rate with neighbourhood func\n",
    "            eta_into_Gamma = tf.multiply(_eta_new, neighbourhood_func)\n",
    "            \n",
    "            # Shape it so that it can be multiplied to calculate dW\n",
    "            weight_multiplier = tf.stack([tf.tile(tf.slice(\n",
    "                eta_into_Gamma, np.array([i]), np.array([1])), [self.dim])\n",
    "                for i in range(m * n)])\n",
    "            delta_W = tf.multiply(weight_multiplier,\n",
    "                tf.subtract(tf.stack([x for i in range(m * n)]),self._W))\n",
    "            new_W = self._W + delta_W\n",
    "            self._W = new_W\n",
    "            \n",
    "           \n",
    "    def fit(self, X):\n",
    "        for i in range(self._num_iterations):\n",
    "            for x in X:\n",
    "                 self.training(x,i)\n",
    "            \n",
    "        \n",
    "        \n",
    "        # Store a centroid grid for easy retrieval\n",
    "        centroid_grid = [[] for i in range(self._m)]\n",
    "        self._Wts = list(self._W)\n",
    "        self._locations = list(self._topography)\n",
    "        for i, loc in enumerate(self._locations):\n",
    "            centroid_grid[loc[0]].append(self._Wts[i])\n",
    "        self._centroid_grid = centroid_grid\n",
    "\n",
    "        self._learned = True\n",
    "    \n",
    "    def winner(self, x):\n",
    "        idx = self.WTU_idx,self.WTU_loc\n",
    "        return idx\n",
    "             \n",
    "    def _neuron_location(self,m,n):\n",
    "        \n",
    "        for i in range(m):\n",
    "            for j in range(n):\n",
    "                yield np.array([i,j])\n",
    "                \n",
    "                \n",
    "    def get_centroids(self):\n",
    "       \n",
    "        if not self._learned:\n",
    "            raise ValueError(\"SOM not trained yet\")\n",
    "        return self._centroid_grid\n",
    "\n",
    "    def map_vects(self, X):\n",
    "       \n",
    "\n",
    "        if not self._learned:\n",
    "            raise ValueError(\"SOM not trained yet\")\n",
    "\n",
    "        to_return = []\n",
    "        for vect in X:\n",
    "            min_index = min([i for i in range(len(self._Wts))],\n",
    "                            key=lambda x: np.linalg.norm(vect -\n",
    "                                                         self._Wts[x]))\n",
    "            to_return.append(self._locations[min_index])\n",
    "\n",
    "        return to_return"
   ]
  },
  {
   "cell_type": "code",
   "execution_count": 31,
   "metadata": {},
   "outputs": [],
   "source": [
    "def normalize(df):\n",
    "    result = df.copy()\n",
    "    for feature_name in df.columns:\n",
    "        max_value = df[feature_name].max()\n",
    "        min_value = df[feature_name].min()\n",
    "        result[feature_name] = (df[feature_name] - min_value) / (max_value - min_value)\n",
    "    return result.astype(np.float32)"
   ]
  },
  {
   "cell_type": "code",
   "execution_count": 32,
   "metadata": {},
   "outputs": [],
   "source": [
    "## Reading input data from file\n",
    "import pandas as pd\n",
    "\n",
    "df = pd.read_csv('colors.csv')  # The last column of data file is a label\n",
    "data = normalize(df[['R', 'G', 'B']]).values\n",
    "name = df['Color-Name'].values\n",
    "n_dim = len(df.columns) - 1"
   ]
  },
  {
   "cell_type": "code",
   "execution_count": 33,
   "metadata": {},
   "outputs": [],
   "source": [
    "# Data for Training\n",
    "colors = data\n",
    "color_names = name"
   ]
  },
  {
   "cell_type": "code",
   "execution_count": 34,
   "metadata": {},
   "outputs": [
    {
     "name": "stdout",
     "output_type": "stream",
     "text": [
      "Network created with dimensions 30 30\n"
     ]
    }
   ],
   "source": [
    "som = WTU(30, 30, n_dim, 400, sigma=10.0)\n",
    "som.fit(colors)\n",
    "\n"
   ]
  },
  {
   "cell_type": "code",
   "execution_count": 35,
   "metadata": {},
   "outputs": [
    {
     "data": {
      "image/png": "[encoded data removed]",
      "text/plain": [
       "<Figure size 432x288 with 1 Axes>"
      ]
     },
     "metadata": {
      "needs_background": "light"
     },
     "output_type": "display_data"
    }
   ],
   "source": [
    "# Get output grid\n",
    "image_grid = som.get_centroids()\n",
    "\n",
    "# Map colours to their closest neurons\n",
    "mapped = som.map_vects(colors)\n",
    "\n",
    "# Plot\n",
    "plt.imshow(image_grid)\n",
    "plt.title('Color Grid SOM')\n",
    "for i, m in enumerate(mapped):\n",
    "    plt.text(m[1], m[0], color_names[i], ha='center', va='center',\n",
    "             bbox=dict(facecolor='white', alpha=0.5, lw=0))"
   ]
  },
  {
   "cell_type": "code",
   "execution_count": 36,
   "metadata": {},
   "outputs": [
    {
     "name": "stdout",
     "output_type": "stream",
     "text": [
      "tf.Tensor(603, shape=(), dtype=int64) tf.Tensor([20  3], shape=(2,), dtype=int64)\n"
     ]
    }
   ],
   "source": [
    "idx, loc = som.winner([0.5, 0.5, 0.5])\n",
    "print(idx, loc)"
   ]
  },
  {
   "cell_type": "code",
   "execution_count": null,
   "metadata": {},
   "outputs": [],
   "source": []
  }
 ],
 "metadata": {
  "kernelspec": {
   "display_name": "Python [conda env:new_tf]",
   "language": "python",
   "name": "conda-env-new_tf-py"
  },
  "language_info": {
   "codemirror_mode": {
    "name": "ipython",
    "version": 3
   },
   "file_extension": ".py",
   "mimetype": "text/x-python",
   "name": "python",
   "nbconvert_exporter": "python",
   "pygments_lexer": "ipython3",
   "version": "3.5.6"
  }
 },
 "nbformat": 4,
 "nbformat_minor": 1
}
